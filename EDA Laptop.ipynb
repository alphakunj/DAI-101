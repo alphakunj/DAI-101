{
 "cells": [
  {
   "cell_type": "code",
   "execution_count": 2,
   "id": "a9c48c1b-88dc-4347-93af-fdd66b75d5b6",
   "metadata": {},
   "outputs": [],
   "source": [
    "import pandas as pd"
   ]
  },
  {
   "cell_type": "code",
   "execution_count": 3,
   "id": "95614b43-bc0a-4411-abd6-ff560f87bcfb",
   "metadata": {},
   "outputs": [],
   "source": [
    "import numpy as np"
   ]
  },
  {
   "cell_type": "code",
   "execution_count": 4,
   "id": "28bd345e-7ba4-4ca5-8038-d94a324e8a17",
   "metadata": {},
   "outputs": [],
   "source": [
    "import matplotlib.pyplot as plt"
   ]
  },
  {
   "cell_type": "code",
   "execution_count": 5,
   "id": "0e7b4670-b952-4985-b46c-ee850de85743",
   "metadata": {},
   "outputs": [],
   "source": [
    "df=pd.read_csv(r\"C:\\Users\\Kunj\\Desktop\\Laptop-Price.csv\")"
   ]
  },
  {
   "cell_type": "code",
   "execution_count": 6,
   "id": "1d35a07d-fc0d-4f5c-8c15-8cf381335998",
   "metadata": {},
   "outputs": [
    {
     "data": {
      "text/html": [
       "<div>\n",
       "<style scoped>\n",
       "    .dataframe tbody tr th:only-of-type {\n",
       "        vertical-align: middle;\n",
       "    }\n",
       "\n",
       "    .dataframe tbody tr th {\n",
       "        vertical-align: top;\n",
       "    }\n",
       "\n",
       "    .dataframe thead th {\n",
       "        text-align: right;\n",
       "    }\n",
       "</style>\n",
       "<table border=\"1\" class=\"dataframe\">\n",
       "  <thead>\n",
       "    <tr style=\"text-align: right;\">\n",
       "      <th></th>\n",
       "      <th>Company</th>\n",
       "      <th>Product</th>\n",
       "      <th>TypeName</th>\n",
       "      <th>Inches</th>\n",
       "      <th>ScreenResolution</th>\n",
       "      <th>Ram</th>\n",
       "      <th>OpSys</th>\n",
       "      <th>Cpu Brand</th>\n",
       "      <th>Cpu Model</th>\n",
       "      <th>Cpu Rate</th>\n",
       "      <th>SSD</th>\n",
       "      <th>HDD</th>\n",
       "      <th>Flash Storage</th>\n",
       "      <th>Hybrid</th>\n",
       "      <th>Gpu Brand</th>\n",
       "      <th>Gpu Model</th>\n",
       "      <th>Unnamed: 16</th>\n",
       "      <th>Price_euros</th>\n",
       "    </tr>\n",
       "  </thead>\n",
       "  <tbody>\n",
       "    <tr>\n",
       "      <th>0</th>\n",
       "      <td>HP</td>\n",
       "      <td>250 G6</td>\n",
       "      <td>Notebook</td>\n",
       "      <td>15.6</td>\n",
       "      <td>Full HD 1920x1080</td>\n",
       "      <td>8GB</td>\n",
       "      <td>No OS</td>\n",
       "      <td>Intel</td>\n",
       "      <td>Core i5 7200U</td>\n",
       "      <td>2.5GHz</td>\n",
       "      <td>256</td>\n",
       "      <td>0</td>\n",
       "      <td>0</td>\n",
       "      <td>0</td>\n",
       "      <td>Intel</td>\n",
       "      <td>HD Graphics 620</td>\n",
       "      <td>NaN</td>\n",
       "      <td>575.0</td>\n",
       "    </tr>\n",
       "    <tr>\n",
       "      <th>1</th>\n",
       "      <td>Acer</td>\n",
       "      <td>Aspire 3</td>\n",
       "      <td>Notebook</td>\n",
       "      <td>15.6</td>\n",
       "      <td>1366x768</td>\n",
       "      <td>4GB</td>\n",
       "      <td>Windows 10</td>\n",
       "      <td>AMD</td>\n",
       "      <td>A9-Series 9420</td>\n",
       "      <td>3GHz</td>\n",
       "      <td>0</td>\n",
       "      <td>500</td>\n",
       "      <td>0</td>\n",
       "      <td>0</td>\n",
       "      <td>AMD</td>\n",
       "      <td>Radeon R5</td>\n",
       "      <td>NaN</td>\n",
       "      <td>400.0</td>\n",
       "    </tr>\n",
       "    <tr>\n",
       "      <th>2</th>\n",
       "      <td>Asus</td>\n",
       "      <td>ZenBook UX430UN</td>\n",
       "      <td>Ultrabook</td>\n",
       "      <td>14.0</td>\n",
       "      <td>Full HD 1920x1080</td>\n",
       "      <td>16GB</td>\n",
       "      <td>Windows 10</td>\n",
       "      <td>Intel</td>\n",
       "      <td>Core i7 8550U</td>\n",
       "      <td>1.8GHz</td>\n",
       "      <td>512</td>\n",
       "      <td>0</td>\n",
       "      <td>0</td>\n",
       "      <td>0</td>\n",
       "      <td>Nvidia</td>\n",
       "      <td>GeForce MX150</td>\n",
       "      <td>NaN</td>\n",
       "      <td>1495.0</td>\n",
       "    </tr>\n",
       "    <tr>\n",
       "      <th>3</th>\n",
       "      <td>Acer</td>\n",
       "      <td>Swift 3</td>\n",
       "      <td>Ultrabook</td>\n",
       "      <td>14.0</td>\n",
       "      <td>IPS Panel Full HD 1920x1080</td>\n",
       "      <td>8GB</td>\n",
       "      <td>Windows 10</td>\n",
       "      <td>Intel</td>\n",
       "      <td>Core i5 8250U</td>\n",
       "      <td>1.6GHz</td>\n",
       "      <td>256</td>\n",
       "      <td>0</td>\n",
       "      <td>0</td>\n",
       "      <td>0</td>\n",
       "      <td>Intel</td>\n",
       "      <td>UHD Graphics 620</td>\n",
       "      <td>NaN</td>\n",
       "      <td>770.0</td>\n",
       "    </tr>\n",
       "    <tr>\n",
       "      <th>4</th>\n",
       "      <td>HP</td>\n",
       "      <td>250 G6</td>\n",
       "      <td>Notebook</td>\n",
       "      <td>15.6</td>\n",
       "      <td>1366x768</td>\n",
       "      <td>4GB</td>\n",
       "      <td>No OS</td>\n",
       "      <td>Intel</td>\n",
       "      <td>Core i5 7200U</td>\n",
       "      <td>2.5GHz</td>\n",
       "      <td>0</td>\n",
       "      <td>500</td>\n",
       "      <td>0</td>\n",
       "      <td>0</td>\n",
       "      <td>Intel</td>\n",
       "      <td>HD Graphics 620</td>\n",
       "      <td>NaN</td>\n",
       "      <td>393.9</td>\n",
       "    </tr>\n",
       "  </tbody>\n",
       "</table>\n",
       "</div>"
      ],
      "text/plain": [
       "  Company          Product   TypeName  Inches             ScreenResolution  \\\n",
       "0      HP           250 G6   Notebook    15.6            Full HD 1920x1080   \n",
       "1    Acer         Aspire 3   Notebook    15.6                     1366x768   \n",
       "2    Asus  ZenBook UX430UN  Ultrabook    14.0            Full HD 1920x1080   \n",
       "3    Acer          Swift 3  Ultrabook    14.0  IPS Panel Full HD 1920x1080   \n",
       "4      HP           250 G6   Notebook    15.6                     1366x768   \n",
       "\n",
       "    Ram       OpSys Cpu Brand       Cpu Model Cpu Rate  SSD  HDD  \\\n",
       "0   8GB       No OS     Intel   Core i5 7200U   2.5GHz  256    0   \n",
       "1   4GB  Windows 10       AMD  A9-Series 9420     3GHz    0  500   \n",
       "2  16GB  Windows 10     Intel   Core i7 8550U   1.8GHz  512    0   \n",
       "3   8GB  Windows 10     Intel   Core i5 8250U   1.6GHz  256    0   \n",
       "4   4GB       No OS     Intel   Core i5 7200U   2.5GHz    0  500   \n",
       "\n",
       "   Flash Storage  Hybrid Gpu Brand         Gpu Model  Unnamed: 16  Price_euros  \n",
       "0              0       0     Intel   HD Graphics 620          NaN        575.0  \n",
       "1              0       0       AMD         Radeon R5          NaN        400.0  \n",
       "2              0       0    Nvidia     GeForce MX150          NaN       1495.0  \n",
       "3              0       0     Intel  UHD Graphics 620          NaN        770.0  \n",
       "4              0       0     Intel   HD Graphics 620          NaN        393.9  "
      ]
     },
     "execution_count": 6,
     "metadata": {},
     "output_type": "execute_result"
    }
   ],
   "source": [
    "df.head()"
   ]
  },
  {
   "cell_type": "code",
   "execution_count": 7,
   "id": "f4b4bfbe-9600-4ace-a463-c64a68f46bb8",
   "metadata": {},
   "outputs": [
    {
     "name": "stdout",
     "output_type": "stream",
     "text": [
      "<class 'pandas.core.frame.DataFrame'>\n",
      "RangeIndex: 1146 entries, 0 to 1145\n",
      "Data columns (total 18 columns):\n",
      " #   Column            Non-Null Count  Dtype  \n",
      "---  ------            --------------  -----  \n",
      " 0   Company           1146 non-null   object \n",
      " 1   Product           1146 non-null   object \n",
      " 2   TypeName          1146 non-null   object \n",
      " 3   Inches            1146 non-null   float64\n",
      " 4   ScreenResolution  1146 non-null   object \n",
      " 5   Ram               1146 non-null   object \n",
      " 6   OpSys             1146 non-null   object \n",
      " 7   Cpu Brand         1146 non-null   object \n",
      " 8   Cpu Model         1146 non-null   object \n",
      " 9   Cpu Rate          1146 non-null   object \n",
      " 10  SSD               1146 non-null   int64  \n",
      " 11  HDD               1146 non-null   int64  \n",
      " 12  Flash Storage     1146 non-null   int64  \n",
      " 13  Hybrid            1146 non-null   int64  \n",
      " 14  Gpu Brand         1146 non-null   object \n",
      " 15  Gpu Model         1146 non-null   object \n",
      " 16  Unnamed: 16       0 non-null      float64\n",
      " 17  Price_euros       1146 non-null   float64\n",
      "dtypes: float64(3), int64(4), object(11)\n",
      "memory usage: 161.3+ KB\n"
     ]
    }
   ],
   "source": [
    "df.info()"
   ]
  },
  {
   "cell_type": "code",
   "execution_count": 8,
   "id": "d6bc47e7-cfff-4a16-a5fc-2aeddb39931e",
   "metadata": {},
   "outputs": [
    {
     "data": {
      "text/plain": [
       "Company                0\n",
       "Product                0\n",
       "TypeName               0\n",
       "Inches                 0\n",
       "ScreenResolution       0\n",
       "Ram                    0\n",
       "OpSys                  0\n",
       "Cpu Brand              0\n",
       "Cpu Model              0\n",
       "Cpu Rate               0\n",
       "SSD                    0\n",
       "HDD                    0\n",
       "Flash Storage          0\n",
       "Hybrid                 0\n",
       "Gpu Brand              0\n",
       "Gpu Model              0\n",
       "Unnamed: 16         1146\n",
       "Price_euros            0\n",
       "dtype: int64"
      ]
     },
     "execution_count": 8,
     "metadata": {},
     "output_type": "execute_result"
    }
   ],
   "source": [
    "df.isnull().sum()"
   ]
  },
  {
   "cell_type": "code",
   "execution_count": 9,
   "id": "092ab491-0483-48fa-911c-bfe0b13da8f4",
   "metadata": {},
   "outputs": [
    {
     "data": {
      "text/plain": [
       "(1146, 18)"
      ]
     },
     "execution_count": 9,
     "metadata": {},
     "output_type": "execute_result"
    }
   ],
   "source": [
    "df.shape"
   ]
  },
  {
   "cell_type": "code",
   "execution_count": 10,
   "id": "d77b9065-5929-4288-820e-9f16dd4f05e4",
   "metadata": {},
   "outputs": [
    {
     "data": {
      "text/plain": [
       "0       False\n",
       "1       False\n",
       "2       False\n",
       "3       False\n",
       "4       False\n",
       "        ...  \n",
       "1141     True\n",
       "1142     True\n",
       "1143     True\n",
       "1144     True\n",
       "1145     True\n",
       "Length: 1146, dtype: bool"
      ]
     },
     "execution_count": 10,
     "metadata": {},
     "output_type": "execute_result"
    }
   ],
   "source": [
    "df.duplicated()\n",
    "#checking for duplicated values"
   ]
  },
  {
   "cell_type": "code",
   "execution_count": 11,
   "id": "ad80bb3c-95a8-4eae-a4e1-91e3a7f3281e",
   "metadata": {},
   "outputs": [
    {
     "data": {
      "text/plain": [
       "18"
      ]
     },
     "execution_count": 11,
     "metadata": {},
     "output_type": "execute_result"
    }
   ],
   "source": [
    "df.duplicated().sum()"
   ]
  },
  {
   "cell_type": "code",
   "execution_count": 12,
   "id": "5423fd2e-9a68-4a2c-ad5b-98667d568828",
   "metadata": {},
   "outputs": [],
   "source": [
    "df.drop_duplicates(inplace=True)\n",
    "#here all duplicate rows have been dropped"
   ]
  },
  {
   "cell_type": "code",
   "execution_count": 13,
   "id": "d035f088-acef-4527-ab70-2a218671ab0d",
   "metadata": {},
   "outputs": [
    {
     "data": {
      "text/plain": [
       "(1128, 17)"
      ]
     },
     "execution_count": 13,
     "metadata": {},
     "output_type": "execute_result"
    }
   ],
   "source": [
    "df.drop('Unnamed: 16', axis=1,inplace=True)\n",
    "df.shape"
   ]
  },
  {
   "cell_type": "code",
   "execution_count": 14,
   "id": "8e35e36d-5f2f-44e8-bb7c-d9600e8febf7",
   "metadata": {},
   "outputs": [
    {
     "data": {
      "text/plain": [
       "Text(0, 0.5, 'Number Of Laptops')"
      ]
     },
     "execution_count": 14,
     "metadata": {},
     "output_type": "execute_result"
    },
    {
     "data": {
      "image/png": "[encoded data removed]",
      "text/plain": [
       "<Figure size 640x480 with 1 Axes>"
      ]
     },
     "metadata": {},
     "output_type": "display_data"
    }
   ],
   "source": [
    "import seaborn as sns\n",
    "sns.barplot(x=df['Company'].unique(),y=df['Company'].value_counts())\n",
    "plt.xticks(rotation=70)\n",
    "plt.xlabel(\"Company Name\")\n",
    "plt.ylabel(\"Number Of Laptops\")"
   ]
  },
  {
   "cell_type": "code",
   "execution_count": null,
   "id": "c9a30b12-97c5-4119-a2d6-c7620e372a4a",
   "metadata": {},
   "outputs": [],
   "source": []
  },
  {
   "cell_type": "code",
   "execution_count": 15,
   "id": "1f2a1397-5834-4f68-957b-355d7a45378a",
   "metadata": {},
   "outputs": [
    {
     "data": {
      "text/html": [
       "<div>\n",
       "<style scoped>\n",
       "    .dataframe tbody tr th:only-of-type {\n",
       "        vertical-align: middle;\n",
       "    }\n",
       "\n",
       "    .dataframe tbody tr th {\n",
       "        vertical-align: top;\n",
       "    }\n",
       "\n",
       "    .dataframe thead th {\n",
       "        text-align: right;\n",
       "    }\n",
       "</style>\n",
       "<table border=\"1\" class=\"dataframe\">\n",
       "  <thead>\n",
       "    <tr style=\"text-align: right;\">\n",
       "      <th></th>\n",
       "      <th>Inches</th>\n",
       "      <th>SSD</th>\n",
       "      <th>HDD</th>\n",
       "      <th>Flash Storage</th>\n",
       "      <th>Hybrid</th>\n",
       "      <th>Price_euros</th>\n",
       "    </tr>\n",
       "  </thead>\n",
       "  <tbody>\n",
       "    <tr>\n",
       "      <th>count</th>\n",
       "      <td>1128.000000</td>\n",
       "      <td>1128.000000</td>\n",
       "      <td>1128.000000</td>\n",
       "      <td>1128.000000</td>\n",
       "      <td>1128.000000</td>\n",
       "      <td>1128.000000</td>\n",
       "    </tr>\n",
       "    <tr>\n",
       "      <th>mean</th>\n",
       "      <td>15.155230</td>\n",
       "      <td>188.663121</td>\n",
       "      <td>46.193262</td>\n",
       "      <td>1.929078</td>\n",
       "      <td>0.530142</td>\n",
       "      <td>1211.578378</td>\n",
       "    </tr>\n",
       "    <tr>\n",
       "      <th>std</th>\n",
       "      <td>1.323512</td>\n",
       "      <td>159.233702</td>\n",
       "      <td>143.974068</td>\n",
       "      <td>26.483095</td>\n",
       "      <td>15.149271</td>\n",
       "      <td>678.979062</td>\n",
       "    </tr>\n",
       "    <tr>\n",
       "      <th>min</th>\n",
       "      <td>11.300000</td>\n",
       "      <td>0.000000</td>\n",
       "      <td>0.000000</td>\n",
       "      <td>0.000000</td>\n",
       "      <td>0.000000</td>\n",
       "      <td>265.000000</td>\n",
       "    </tr>\n",
       "    <tr>\n",
       "      <th>25%</th>\n",
       "      <td>14.000000</td>\n",
       "      <td>0.000000</td>\n",
       "      <td>0.000000</td>\n",
       "      <td>0.000000</td>\n",
       "      <td>0.000000</td>\n",
       "      <td>704.362500</td>\n",
       "    </tr>\n",
       "    <tr>\n",
       "      <th>50%</th>\n",
       "      <td>15.600000</td>\n",
       "      <td>256.000000</td>\n",
       "      <td>0.000000</td>\n",
       "      <td>0.000000</td>\n",
       "      <td>0.000000</td>\n",
       "      <td>1067.000000</td>\n",
       "    </tr>\n",
       "    <tr>\n",
       "      <th>75%</th>\n",
       "      <td>15.600000</td>\n",
       "      <td>256.000000</td>\n",
       "      <td>1.000000</td>\n",
       "      <td>0.000000</td>\n",
       "      <td>0.000000</td>\n",
       "      <td>1549.000000</td>\n",
       "    </tr>\n",
       "    <tr>\n",
       "      <th>max</th>\n",
       "      <td>18.400000</td>\n",
       "      <td>512.000000</td>\n",
       "      <td>500.000000</td>\n",
       "      <td>512.000000</td>\n",
       "      <td>508.000000</td>\n",
       "      <td>6099.000000</td>\n",
       "    </tr>\n",
       "  </tbody>\n",
       "</table>\n",
       "</div>"
      ],
      "text/plain": [
       "            Inches          SSD          HDD  Flash Storage       Hybrid  \\\n",
       "count  1128.000000  1128.000000  1128.000000    1128.000000  1128.000000   \n",
       "mean     15.155230   188.663121    46.193262       1.929078     0.530142   \n",
       "std       1.323512   159.233702   143.974068      26.483095    15.149271   \n",
       "min      11.300000     0.000000     0.000000       0.000000     0.000000   \n",
       "25%      14.000000     0.000000     0.000000       0.000000     0.000000   \n",
       "50%      15.600000   256.000000     0.000000       0.000000     0.000000   \n",
       "75%      15.600000   256.000000     1.000000       0.000000     0.000000   \n",
       "max      18.400000   512.000000   500.000000     512.000000   508.000000   \n",
       "\n",
       "       Price_euros  \n",
       "count  1128.000000  \n",
       "mean   1211.578378  \n",
       "std     678.979062  \n",
       "min     265.000000  \n",
       "25%     704.362500  \n",
       "50%    1067.000000  \n",
       "75%    1549.000000  \n",
       "max    6099.000000  "
      ]
     },
     "execution_count": 15,
     "metadata": {},
     "output_type": "execute_result"
    }
   ],
   "source": [
    "df.describe()\n",
    "#to obtain counts and central tendecies of numerical attributes"
   ]
  },
  {
   "cell_type": "code",
   "execution_count": 16,
   "id": "9ac29186-5165-49c7-aee9-b9057dfde73c",
   "metadata": {},
   "outputs": [
    {
     "data": {
      "text/html": [
       "<div>\n",
       "<style scoped>\n",
       "    .dataframe tbody tr th:only-of-type {\n",
       "        vertical-align: middle;\n",
       "    }\n",
       "\n",
       "    .dataframe tbody tr th {\n",
       "        vertical-align: top;\n",
       "    }\n",
       "\n",
       "    .dataframe thead th {\n",
       "        text-align: right;\n",
       "    }\n",
       "</style>\n",
       "<table border=\"1\" class=\"dataframe\">\n",
       "  <thead>\n",
       "    <tr style=\"text-align: right;\">\n",
       "      <th></th>\n",
       "      <th>Company</th>\n",
       "      <th>Product</th>\n",
       "      <th>TypeName</th>\n",
       "      <th>Inches</th>\n",
       "      <th>ScreenResolution</th>\n",
       "      <th>Ram</th>\n",
       "      <th>OpSys</th>\n",
       "      <th>Cpu Brand</th>\n",
       "      <th>Cpu Model</th>\n",
       "      <th>Cpu Rate</th>\n",
       "      <th>SSD</th>\n",
       "      <th>HDD</th>\n",
       "      <th>Flash Storage</th>\n",
       "      <th>Hybrid</th>\n",
       "      <th>Gpu Brand</th>\n",
       "      <th>Gpu Model</th>\n",
       "      <th>Price_euros</th>\n",
       "    </tr>\n",
       "  </thead>\n",
       "  <tbody>\n",
       "    <tr>\n",
       "      <th>166</th>\n",
       "      <td>Razer</td>\n",
       "      <td>Blade Pro</td>\n",
       "      <td>Gaming</td>\n",
       "      <td>17.3</td>\n",
       "      <td>4K Ultra HD / Touchscreen 3840x2160</td>\n",
       "      <td>32GB</td>\n",
       "      <td>Windows 10</td>\n",
       "      <td>Intel</td>\n",
       "      <td>Core i7 7820HK</td>\n",
       "      <td>2.9GHz</td>\n",
       "      <td>1</td>\n",
       "      <td>0</td>\n",
       "      <td>0</td>\n",
       "      <td>0</td>\n",
       "      <td>Nvidia</td>\n",
       "      <td>GeForce GTX 1080</td>\n",
       "      <td>6099.0</td>\n",
       "    </tr>\n",
       "    <tr>\n",
       "      <th>629</th>\n",
       "      <td>Mediacom</td>\n",
       "      <td>Smartbook 142</td>\n",
       "      <td>Notebook</td>\n",
       "      <td>14.0</td>\n",
       "      <td>IPS Panel Full HD 1920x1200</td>\n",
       "      <td>4GB</td>\n",
       "      <td>Windows 10</td>\n",
       "      <td>Intel</td>\n",
       "      <td>Atom Z8350</td>\n",
       "      <td>1.92GHz</td>\n",
       "      <td>0</td>\n",
       "      <td>32</td>\n",
       "      <td>0</td>\n",
       "      <td>0</td>\n",
       "      <td>Intel</td>\n",
       "      <td>HD Graphics 400</td>\n",
       "      <td>265.0</td>\n",
       "    </tr>\n",
       "  </tbody>\n",
       "</table>\n",
       "</div>"
      ],
      "text/plain": [
       "      Company        Product  TypeName  Inches  \\\n",
       "166     Razer      Blade Pro    Gaming    17.3   \n",
       "629  Mediacom  Smartbook 142  Notebook    14.0   \n",
       "\n",
       "                        ScreenResolution   Ram       OpSys Cpu Brand  \\\n",
       "166  4K Ultra HD / Touchscreen 3840x2160  32GB  Windows 10     Intel   \n",
       "629          IPS Panel Full HD 1920x1200   4GB  Windows 10     Intel   \n",
       "\n",
       "          Cpu Model Cpu Rate  SSD  HDD  Flash Storage  Hybrid Gpu Brand  \\\n",
       "166  Core i7 7820HK   2.9GHz    1    0              0       0    Nvidia   \n",
       "629      Atom Z8350  1.92GHz    0   32              0       0     Intel   \n",
       "\n",
       "            Gpu Model  Price_euros  \n",
       "166  GeForce GTX 1080       6099.0  \n",
       "629   HD Graphics 400        265.0  "
      ]
     },
     "execution_count": 16,
     "metadata": {},
     "output_type": "execute_result"
    }
   ],
   "source": [
    "df[(df['Price_euros'] == df['Price_euros'].max()) | (df['Price_euros'] == df['Price_euros'].min())]\n",
    "#shows laptops with minimum and maximum prizes respectively"
   ]
  },
  {
   "cell_type": "code",
   "execution_count": 17,
   "id": "e07595e9-b7c1-404b-b3bd-a20038896ff9",
   "metadata": {},
   "outputs": [
    {
     "name": "stdout",
     "output_type": "stream",
     "text": [
      "<class 'pandas.core.frame.DataFrame'>\n",
      "Index: 1128 entries, 0 to 1127\n",
      "Data columns (total 17 columns):\n",
      " #   Column            Non-Null Count  Dtype  \n",
      "---  ------            --------------  -----  \n",
      " 0   Company           1128 non-null   object \n",
      " 1   Product           1128 non-null   object \n",
      " 2   TypeName          1128 non-null   object \n",
      " 3   Inches            1128 non-null   float64\n",
      " 4   ScreenResolution  1128 non-null   object \n",
      " 5   Ram               1128 non-null   object \n",
      " 6   OpSys             1128 non-null   object \n",
      " 7   Cpu Brand         1128 non-null   object \n",
      " 8   Cpu Model         1128 non-null   object \n",
      " 9   Cpu Rate          1128 non-null   object \n",
      " 10  SSD               1128 non-null   int64  \n",
      " 11  HDD               1128 non-null   int64  \n",
      " 12  Flash Storage     1128 non-null   int64  \n",
      " 13  Hybrid            1128 non-null   int64  \n",
      " 14  Gpu Brand         1128 non-null   object \n",
      " 15  Gpu Model         1128 non-null   object \n",
      " 16  Price_euros       1128 non-null   float64\n",
      "dtypes: float64(2), int64(4), object(11)\n",
      "memory usage: 158.6+ KB\n"
     ]
    }
   ],
   "source": [
    "df.info()"
   ]
  },
  {
   "cell_type": "code",
   "execution_count": 18,
   "id": "d17e28ad-6d25-4901-85a5-2bcbe9be7017",
   "metadata": {},
   "outputs": [
    {
     "data": {
      "image/png": "[encoded data removed]",
      "text/plain": [
       "<Figure size 640x480 with 1 Axes>"
      ]
     },
     "metadata": {},
     "output_type": "display_data"
    }
   ],
   "source": [
    "plt.pie(df['TypeName'].value_counts(), labels=df['TypeName'].unique())\n",
    "plt.show()"
   ]
  },
  {
   "cell_type": "code",
   "execution_count": 19,
   "id": "83a433ac-1733-4df5-9c37-0ba0d7a6b8a2",
   "metadata": {},
   "outputs": [
    {
     "data": {
      "text/plain": [
       "Text(0, 0.5, 'Price')"
      ]
     },
     "execution_count": 19,
     "metadata": {},
     "output_type": "execute_result"
    },
    {
     "data": {
      "image/png": "[encoded data removed]",
      "text/plain": [
       "<Figure size 640x480 with 1 Axes>"
      ]
     },
     "metadata": {},
     "output_type": "display_data"
    }
   ],
   "source": [
    "df.groupby('Company')['Price_euros'].mean().sort_values(ascending = False).plot(kind='bar')\n",
    "plt.title('Avg Laptop Price Vs. Company')\n",
    "plt.xlabel('Company')\n",
    "plt.ylabel('Price')\n",
    "#from here we conclude that laptops of Razer on an average are most expensive whereas that of Mediacom are cheapest"
   ]
  },
  {
   "cell_type": "code",
   "execution_count": 20,
   "id": "a75694be-3113-4864-88b2-9baa844c5ca9",
   "metadata": {},
   "outputs": [
    {
     "name": "stdout",
     "output_type": "stream",
     "text": [
      "Company has 17 unique values\n",
      "Product has 527 unique values\n",
      "TypeName has 6 unique values\n",
      "Inches has 15 unique values\n",
      "ScreenResolution has 34 unique values\n",
      "Ram has 8 unique values\n",
      "OpSys has 7 unique values\n",
      "Cpu Brand has 2 unique values\n",
      "Cpu Model has 65 unique values\n",
      "Cpu Rate has 27 unique values\n",
      "SSD has 9 unique values\n",
      "HDD has 7 unique values\n",
      "Flash Storage has 4 unique values\n",
      "Hybrid has 3 unique values\n",
      "Gpu Brand has 3 unique values\n",
      "Gpu Model has 96 unique values\n",
      "Price_euros has 706 unique values\n"
     ]
    }
   ],
   "source": [
    "for col in df.columns:  #Checking for unique values in each column\n",
    "    print(col + ' has ' + str(df[col].nunique()) + ' unique values')"
   ]
  },
  {
   "cell_type": "markdown",
   "id": "2f28ff59-8ab6-44a2-9b52-defe997da084",
   "metadata": {},
   "source": [
    "UNIVARIATE ANALYSIS OF PRICE OF LAPTOPS"
   ]
  },
  {
   "cell_type": "code",
   "execution_count": 22,
   "id": "4cce7eb6-f8bb-4391-8298-98031dc9481b",
   "metadata": {},
   "outputs": [],
   "source": [
    "data=df[\"Price_euros\"]"
   ]
  },
  {
   "cell_type": "code",
   "execution_count": 23,
   "id": "c990378f-975f-4214-999c-3be3714cbd13",
   "metadata": {},
   "outputs": [
    {
     "data": {
      "text/plain": [
       "count    1128.000000\n",
       "mean     1211.578378\n",
       "std       678.979062\n",
       "min       265.000000\n",
       "25%       704.362500\n",
       "50%      1067.000000\n",
       "75%      1549.000000\n",
       "max      6099.000000\n",
       "Name: Price_euros, dtype: float64"
      ]
     },
     "execution_count": 23,
     "metadata": {},
     "output_type": "execute_result"
    }
   ],
   "source": [
    "data.describe()"
   ]
  },
  {
   "cell_type": "code",
   "execution_count": 24,
   "id": "dff79446-3260-4e57-b1c7-6c6a9bc572d6",
   "metadata": {},
   "outputs": [
    {
     "name": "stdout",
     "output_type": "stream",
     "text": [
      "Lower Bound is -562.5937500000002\n",
      "Upper Bound is 2815.95625\n",
      "IQR 844.6375\n"
     ]
    }
   ],
   "source": [
    "#Solving for IQR, Q1, Q3 and Median\n",
    "q1=data.quantile(0.25)\n",
    "q3=data.quantile(0.75)\n",
    "IQR=q3-q1\n",
    "\n",
    "\n",
    "lower_bound=q1-1.5*IQR\n",
    "upper_bound=q3+1.5*IQR\n",
    "print(\"Lower Bound is\",lower_bound)\n",
    "print(\"Upper Bound is\",upper_bound)\n",
    "print(\"IQR\",IQR)"
   ]
  },
  {
   "cell_type": "code",
   "execution_count": 25,
   "id": "a9646396-e1f8-4f55-92f3-d357584d9374",
   "metadata": {},
   "outputs": [
    {
     "data": {
      "text/plain": [
       "161     2824.00\n",
       "166     6099.00\n",
       "174     3055.00\n",
       "208     3890.00\n",
       "217     2999.00\n",
       "264     2884.86\n",
       "454     2968.00\n",
       "467     3012.77\n",
       "495     2999.00\n",
       "535     4899.00\n",
       "579     3147.37\n",
       "634     3659.40\n",
       "655     3299.00\n",
       "666     2868.99\n",
       "684     2899.00\n",
       "685     3588.80\n",
       "728     5499.00\n",
       "738     3072.89\n",
       "799     3100.00\n",
       "839     3154.00\n",
       "850     3149.00\n",
       "897     2968.00\n",
       "944     3975.00\n",
       "959     3240.00\n",
       "976     2899.00\n",
       "1005    3949.40\n",
       "1093    3499.00\n",
       "Name: Price_euros, dtype: float64"
      ]
     },
     "execution_count": 25,
     "metadata": {},
     "output_type": "execute_result"
    }
   ],
   "source": [
    "#Finding outliers\n",
    "outliers=data[(data<lower_bound) | (data>upper_bound)]\n",
    "outliers"
   ]
  },
  {
   "cell_type": "code",
   "execution_count": 26,
   "id": "3392759e-9e17-4e20-9811-0ff4a7cdc1e1",
   "metadata": {},
   "outputs": [
    {
     "data": {
      "text/plain": [
       "27"
      ]
     },
     "execution_count": 26,
     "metadata": {},
     "output_type": "execute_result"
    }
   ],
   "source": [
    "outliers.shape[0]\n",
    "#number of outliers"
   ]
  },
  {
   "cell_type": "code",
   "execution_count": 27,
   "id": "b6878739-64f4-4dc9-a6f7-f7384ed266f8",
   "metadata": {
    "scrolled": true
   },
   "outputs": [
    {
     "data": {
      "text/plain": [
       "Text(0, 0.5, 'Number Of Laptops')"
      ]
     },
     "execution_count": 27,
     "metadata": {},
     "output_type": "execute_result"
    },
    {
     "data": {
      "image/png": "[encoded data removed]",
      "text/plain": [
       "<Figure size 640x480 with 1 Axes>"
      ]
     },
     "metadata": {},
     "output_type": "display_data"
    }
   ],
   "source": [
    "plt.hist(data,bins=20,edgecolor=\"black\")\n",
    "plt.title(\"Price Distribution Of Laptops\")\n",
    "plt.xlabel(\"Price Of Laptops\")\n",
    "plt.ylabel(\"Number Of Laptops\")\n"
   ]
  },
  {
   "cell_type": "code",
   "execution_count": 28,
   "id": "a773f862-9b88-48d8-82d1-763946578e08",
   "metadata": {},
   "outputs": [],
   "source": [
    "import seaborn as sns"
   ]
  },
  {
   "cell_type": "code",
   "execution_count": 29,
   "id": "7a0a7304-a9f0-40b3-bf44-2c75c8f80954",
   "metadata": {},
   "outputs": [
    {
     "data": {
      "text/plain": [
       "<Axes: ylabel='Price_euros'>"
      ]
     },
     "execution_count": 29,
     "metadata": {},
     "output_type": "execute_result"
    },
    {
     "data": {
      "image/png": "[encoded data removed]",
      "text/plain": [
       "<Figure size 640x480 with 1 Axes>"
      ]
     },
     "metadata": {},
     "output_type": "display_data"
    }
   ],
   "source": [
    "sns.boxplot(data)\n",
    "#important tool to indicate outliers in data"
   ]
  },
  {
   "cell_type": "code",
   "execution_count": 30,
   "id": "4d58aee7-1d1f-4a30-adbb-ee9a96c4ab63",
   "metadata": {},
   "outputs": [],
   "source": [
    "#removing outliers as they affect the measures of central tendencies\n",
    "data=data[(data>lower_bound)&(data<upper_bound)]"
   ]
  },
  {
   "cell_type": "code",
   "execution_count": 31,
   "id": "56c97996-bb29-4ee8-a666-f00953d1209b",
   "metadata": {},
   "outputs": [
    {
     "data": {
      "text/plain": [
       "Text(0, 0.5, 'Number Of Laptops')"
      ]
     },
     "execution_count": 31,
     "metadata": {},
     "output_type": "execute_result"
    },
    {
     "data": {
      "image/png": "[encoded data removed]",
      "text/plain": [
       "<Figure size 640x480 with 1 Axes>"
      ]
     },
     "metadata": {},
     "output_type": "display_data"
    }
   ],
   "source": [
    "#plt.hist(data,bins=20,edgecolor=\"black\")\n",
    "sns.histplot(data,kde=True)\n",
    "plt.title(\"Price Distribution Of Laptops After Removing Outliers\")\n",
    "plt.xlabel(\"Price Of Laptops\")\n",
    "plt.ylabel(\"Number Of Laptops\")"
   ]
  },
  {
   "cell_type": "code",
   "execution_count": 32,
   "id": "908ae3a0-109a-4fb2-8f68-2745da6c0500",
   "metadata": {},
   "outputs": [
    {
     "data": {
      "text/plain": [
       "count    1101.000000\n",
       "mean     1156.277866\n",
       "std       573.130626\n",
       "min       265.000000\n",
       "25%       699.000000\n",
       "50%      1049.000000\n",
       "75%      1499.000000\n",
       "max      2813.750000\n",
       "Name: Price_euros, dtype: float64"
      ]
     },
     "execution_count": 32,
     "metadata": {},
     "output_type": "execute_result"
    }
   ],
   "source": [
    "#Inferences\n",
    "# data is unimodal and is skewed\n",
    "# data is right skewed\n",
    "# data's mean > median\n",
    "data.describe()\n",
    "#our inferences are justified by mathematical calculations"
   ]
  },
  {
   "cell_type": "code",
   "execution_count": 33,
   "id": "c3cc1221-ab7d-4d28-8026-390ab5d45227",
   "metadata": {},
   "outputs": [],
   "source": [
    "# NOW LETS PERFORM MULTIVARIATE ANALYSIS"
   ]
  },
  {
   "cell_type": "code",
   "execution_count": 34,
   "id": "f03bea09-2ed8-4225-bf58-384430577ae8",
   "metadata": {},
   "outputs": [
    {
     "data": {
      "text/plain": [
       "<matplotlib.collections.PathCollection at 0x1d601a53200>"
      ]
     },
     "execution_count": 34,
     "metadata": {},
     "output_type": "execute_result"
    },
    {
     "data": {
      "image/png": "[encoded data removed]",
      "text/plain": [
       "<Figure size 640x480 with 1 Axes>"
      ]
     },
     "metadata": {},
     "output_type": "display_data"
    }
   ],
   "source": [
    "plt.scatter(df['Price_euros'],df['Cpu Rate'])\n",
    "#It can be concluded that there exists no correlation"
   ]
  },
  {
   "cell_type": "code",
   "execution_count": 35,
   "id": "0f7e4f3e-3214-4154-b239-c9c36ac2f80b",
   "metadata": {},
   "outputs": [
    {
     "data": {
      "text/html": [
       "<div>\n",
       "<style scoped>\n",
       "    .dataframe tbody tr th:only-of-type {\n",
       "        vertical-align: middle;\n",
       "    }\n",
       "\n",
       "    .dataframe tbody tr th {\n",
       "        vertical-align: top;\n",
       "    }\n",
       "\n",
       "    .dataframe thead th {\n",
       "        text-align: right;\n",
       "    }\n",
       "</style>\n",
       "<table border=\"1\" class=\"dataframe\">\n",
       "  <thead>\n",
       "    <tr style=\"text-align: right;\">\n",
       "      <th>Gpu Brand</th>\n",
       "      <th>AMD</th>\n",
       "      <th>Intel</th>\n",
       "      <th>Nvidia</th>\n",
       "    </tr>\n",
       "    <tr>\n",
       "      <th>TypeName</th>\n",
       "      <th></th>\n",
       "      <th></th>\n",
       "      <th></th>\n",
       "    </tr>\n",
       "  </thead>\n",
       "  <tbody>\n",
       "    <tr>\n",
       "      <th>2 in 1 Convertible</th>\n",
       "      <td>2</td>\n",
       "      <td>90</td>\n",
       "      <td>9</td>\n",
       "    </tr>\n",
       "    <tr>\n",
       "      <th>Gaming</th>\n",
       "      <td>7</td>\n",
       "      <td>0</td>\n",
       "      <td>197</td>\n",
       "    </tr>\n",
       "    <tr>\n",
       "      <th>Netbook</th>\n",
       "      <td>0</td>\n",
       "      <td>6</td>\n",
       "      <td>0</td>\n",
       "    </tr>\n",
       "    <tr>\n",
       "      <th>Notebook</th>\n",
       "      <td>148</td>\n",
       "      <td>323</td>\n",
       "      <td>143</td>\n",
       "    </tr>\n",
       "    <tr>\n",
       "      <th>Ultrabook</th>\n",
       "      <td>7</td>\n",
       "      <td>150</td>\n",
       "      <td>18</td>\n",
       "    </tr>\n",
       "    <tr>\n",
       "      <th>Workstation</th>\n",
       "      <td>3</td>\n",
       "      <td>1</td>\n",
       "      <td>24</td>\n",
       "    </tr>\n",
       "  </tbody>\n",
       "</table>\n",
       "</div>"
      ],
      "text/plain": [
       "Gpu Brand           AMD  Intel  Nvidia\n",
       "TypeName                              \n",
       "2 in 1 Convertible    2     90       9\n",
       "Gaming                7      0     197\n",
       "Netbook               0      6       0\n",
       "Notebook            148    323     143\n",
       "Ultrabook             7    150      18\n",
       "Workstation           3      1      24"
      ]
     },
     "execution_count": 35,
     "metadata": {},
     "output_type": "execute_result"
    }
   ],
   "source": [
    "kunj1=pd.crosstab(df[\"TypeName\"],df['Gpu Brand'])\n",
    "kunj1"
   ]
  },
  {
   "cell_type": "code",
   "execution_count": 36,
   "id": "4b0e69b9-d834-4869-a011-4c81b17b0184",
   "metadata": {},
   "outputs": [
    {
     "data": {
      "text/plain": [
       "<Axes: xlabel='Gpu Brand', ylabel='TypeName'>"
      ]
     },
     "execution_count": 36,
     "metadata": {},
     "output_type": "execute_result"
    },
    {
     "data": {
      "image/png": "[encoded data removed]",
      "text/plain": [
       "<Figure size 640x480 with 2 Axes>"
      ]
     },
     "metadata": {},
     "output_type": "display_data"
    }
   ],
   "source": [
    "sns.heatmap(kunj1)"
   ]
  },
  {
   "cell_type": "code",
   "execution_count": 37,
   "id": "0661c79b-7462-40ca-8cee-8f6873340502",
   "metadata": {},
   "outputs": [
    {
     "name": "stdout",
     "output_type": "stream",
     "text": [
      "Value of Chi2= 554.0789747308819\n",
      "Value of Probability= 4.993629792753677e-72\n"
     ]
    }
   ],
   "source": [
    "#performing chi-square test\n",
    "from scipy.stats import chi2_contingency\n",
    "contingency_table=pd.crosstab(df[\"Company\"],df[\"TypeName\"])\n",
    "chi2,p,dof,expected=chi2_contingency(contingency_table)\n",
    "print(\"Value of Chi2=\",chi2)\n",
    "print(\"Value of Probability=\",p)"
   ]
  },
  {
   "cell_type": "code",
   "execution_count": 38,
   "id": "7b4de3ff-ef36-473a-92cf-2e7d49995ae7",
   "metadata": {},
   "outputs": [],
   "source": [
    "#For 95% level of significane, p<0.05 implying that there is strong evidence to reject the null hypothesis, meaning that there is likely a statistically significant association between the two variables."
   ]
  },
  {
   "cell_type": "code",
   "execution_count": 86,
   "id": "47ce9823-69fc-4e18-a8d9-d5c1cfd1fafe",
   "metadata": {},
   "outputs": [
    {
     "data": {
      "text/plain": [
       "array(['HP', 'Acer', 'Asus', 'Dell', 'Lenovo', 'MSI', 'Microsoft',\n",
       "       'Toshiba', 'Huawei', 'Xiaomi', 'Razer', 'Google', 'Fujitsu',\n",
       "       'Samsung', 'LG', 'Mediacom', 'Apple'], dtype=object)"
      ]
     },
     "execution_count": 86,
     "metadata": {},
     "output_type": "execute_result"
    }
   ],
   "source": [
    "df['Company'].unique()"
   ]
  },
  {
   "cell_type": "code",
   "execution_count": 88,
   "id": "2ed4a8f1-f46c-440d-bce0-6563ea7ce535",
   "metadata": {},
   "outputs": [
    {
     "data": {
      "image/png": "[encoded data removed]",
      "text/plain": [
       "<Figure size 640x480 with 1 Axes>"
      ]
     },
     "metadata": {},
     "output_type": "display_data"
    }
   ],
   "source": [
    "df.groupby('Company').size().sort_values().plot.barh(color='skyblue')\n",
    "plt.show()"
   ]
  },
  {
   "cell_type": "code",
   "execution_count": 96,
   "id": "e5952827-e1d3-42c0-8b63-200f0455f4f8",
   "metadata": {},
   "outputs": [
    {
     "name": "stdout",
     "output_type": "stream",
     "text": [
      "F-statistic: 2.5751592049134953\n",
      "p-value: 0.05270703627174054\n"
     ]
    }
   ],
   "source": [
    "#Since laptops of Dell, Lenovo, HP and ASUS are most sold we will perform anova over their price so as to draw insights\n",
    "from scipy import stats\n",
    "group_A = df[df['Company'] == 'Dell']['Price_euros']\n",
    "group_B = df[df['Company'] == 'Lenovo']['Price_euros']\n",
    "group_C = df[df['Company'] == 'HP']['Price_euros']\n",
    "group_D = df[df['Company'] == 'Asus']['Price_euros']\n",
    "# Perform one-way ANOVA\n",
    "f_stat, p_value = stats.f_oneway(group_A, group_B, group_C,group_D)\n",
    "\n",
    "print(\"F-statistic:\", f_stat)\n",
    "print(\"p-value:\", p_value)"
   ]
  },
  {
   "cell_type": "code",
   "execution_count": 98,
   "id": "6c653832-98e3-4ce0-9bd8-3523a1b6e2d7",
   "metadata": {},
   "outputs": [],
   "source": [
    "## Hereby we conclude that since p value is greater than 0.05 we cannot reject null hypothesis and henceforth the differences are clearly due to chance"
   ]
  },
  {
   "cell_type": "code",
   "execution_count": 100,
   "id": "9c68ec60-9182-40a3-aaa0-f1e8a2d93546",
   "metadata": {},
   "outputs": [],
   "source": [
    "##Also moderate F-Value indicates that variation between group means is moderate as compared to variation within groups\n",
    " "
   ]
  },
  {
   "cell_type": "code",
   "execution_count": 108,
   "id": "01c8f588-7b08-435d-a9df-6a66ff88c1d9",
   "metadata": {},
   "outputs": [
    {
     "data": {
      "text/html": [
       "<div>\n",
       "<style scoped>\n",
       "    .dataframe tbody tr th:only-of-type {\n",
       "        vertical-align: middle;\n",
       "    }\n",
       "\n",
       "    .dataframe tbody tr th {\n",
       "        vertical-align: top;\n",
       "    }\n",
       "\n",
       "    .dataframe thead th {\n",
       "        text-align: right;\n",
       "    }\n",
       "</style>\n",
       "<table border=\"1\" class=\"dataframe\">\n",
       "  <thead>\n",
       "    <tr style=\"text-align: right;\">\n",
       "      <th></th>\n",
       "      <th>Company</th>\n",
       "      <th>Product</th>\n",
       "      <th>TypeName</th>\n",
       "      <th>Inches</th>\n",
       "      <th>ScreenResolution</th>\n",
       "      <th>Ram</th>\n",
       "      <th>OpSys</th>\n",
       "      <th>Cpu Brand</th>\n",
       "      <th>Cpu Model</th>\n",
       "      <th>Cpu Rate</th>\n",
       "      <th>SSD</th>\n",
       "      <th>HDD</th>\n",
       "      <th>Flash Storage</th>\n",
       "      <th>Hybrid</th>\n",
       "      <th>Gpu Brand</th>\n",
       "      <th>Gpu Model</th>\n",
       "      <th>Price_euros</th>\n",
       "    </tr>\n",
       "  </thead>\n",
       "  <tbody>\n",
       "    <tr>\n",
       "      <th>0</th>\n",
       "      <td>6</td>\n",
       "      <td>250 G6</td>\n",
       "      <td>3</td>\n",
       "      <td>15.6</td>\n",
       "      <td>Full HD 1920x1080</td>\n",
       "      <td>8GB</td>\n",
       "      <td>No OS</td>\n",
       "      <td>Intel</td>\n",
       "      <td>Core i5 7200U</td>\n",
       "      <td>2.5GHz</td>\n",
       "      <td>256</td>\n",
       "      <td>0</td>\n",
       "      <td>0</td>\n",
       "      <td>0</td>\n",
       "      <td>Intel</td>\n",
       "      <td>HD Graphics 620</td>\n",
       "      <td>575.0</td>\n",
       "    </tr>\n",
       "    <tr>\n",
       "      <th>1</th>\n",
       "      <td>0</td>\n",
       "      <td>Aspire 3</td>\n",
       "      <td>3</td>\n",
       "      <td>15.6</td>\n",
       "      <td>1366x768</td>\n",
       "      <td>4GB</td>\n",
       "      <td>Windows 10</td>\n",
       "      <td>AMD</td>\n",
       "      <td>A9-Series 9420</td>\n",
       "      <td>3GHz</td>\n",
       "      <td>0</td>\n",
       "      <td>500</td>\n",
       "      <td>0</td>\n",
       "      <td>0</td>\n",
       "      <td>AMD</td>\n",
       "      <td>Radeon R5</td>\n",
       "      <td>400.0</td>\n",
       "    </tr>\n",
       "    <tr>\n",
       "      <th>2</th>\n",
       "      <td>2</td>\n",
       "      <td>ZenBook UX430UN</td>\n",
       "      <td>4</td>\n",
       "      <td>14.0</td>\n",
       "      <td>Full HD 1920x1080</td>\n",
       "      <td>16GB</td>\n",
       "      <td>Windows 10</td>\n",
       "      <td>Intel</td>\n",
       "      <td>Core i7 8550U</td>\n",
       "      <td>1.8GHz</td>\n",
       "      <td>512</td>\n",
       "      <td>0</td>\n",
       "      <td>0</td>\n",
       "      <td>0</td>\n",
       "      <td>Nvidia</td>\n",
       "      <td>GeForce MX150</td>\n",
       "      <td>1495.0</td>\n",
       "    </tr>\n",
       "    <tr>\n",
       "      <th>3</th>\n",
       "      <td>0</td>\n",
       "      <td>Swift 3</td>\n",
       "      <td>4</td>\n",
       "      <td>14.0</td>\n",
       "      <td>IPS Panel Full HD 1920x1080</td>\n",
       "      <td>8GB</td>\n",
       "      <td>Windows 10</td>\n",
       "      <td>Intel</td>\n",
       "      <td>Core i5 8250U</td>\n",
       "      <td>1.6GHz</td>\n",
       "      <td>256</td>\n",
       "      <td>0</td>\n",
       "      <td>0</td>\n",
       "      <td>0</td>\n",
       "      <td>Intel</td>\n",
       "      <td>UHD Graphics 620</td>\n",
       "      <td>770.0</td>\n",
       "    </tr>\n",
       "    <tr>\n",
       "      <th>4</th>\n",
       "      <td>6</td>\n",
       "      <td>250 G6</td>\n",
       "      <td>3</td>\n",
       "      <td>15.6</td>\n",
       "      <td>1366x768</td>\n",
       "      <td>4GB</td>\n",
       "      <td>No OS</td>\n",
       "      <td>Intel</td>\n",
       "      <td>Core i5 7200U</td>\n",
       "      <td>2.5GHz</td>\n",
       "      <td>0</td>\n",
       "      <td>500</td>\n",
       "      <td>0</td>\n",
       "      <td>0</td>\n",
       "      <td>Intel</td>\n",
       "      <td>HD Graphics 620</td>\n",
       "      <td>393.9</td>\n",
       "    </tr>\n",
       "  </tbody>\n",
       "</table>\n",
       "</div>"
      ],
      "text/plain": [
       "   Company          Product  TypeName  Inches             ScreenResolution  \\\n",
       "0        6           250 G6         3    15.6            Full HD 1920x1080   \n",
       "1        0         Aspire 3         3    15.6                     1366x768   \n",
       "2        2  ZenBook UX430UN         4    14.0            Full HD 1920x1080   \n",
       "3        0          Swift 3         4    14.0  IPS Panel Full HD 1920x1080   \n",
       "4        6           250 G6         3    15.6                     1366x768   \n",
       "\n",
       "    Ram       OpSys Cpu Brand       Cpu Model Cpu Rate  SSD  HDD  \\\n",
       "0   8GB       No OS     Intel   Core i5 7200U   2.5GHz  256    0   \n",
       "1   4GB  Windows 10       AMD  A9-Series 9420     3GHz    0  500   \n",
       "2  16GB  Windows 10     Intel   Core i7 8550U   1.8GHz  512    0   \n",
       "3   8GB  Windows 10     Intel   Core i5 8250U   1.6GHz  256    0   \n",
       "4   4GB       No OS     Intel   Core i5 7200U   2.5GHz    0  500   \n",
       "\n",
       "   Flash Storage  Hybrid Gpu Brand         Gpu Model  Price_euros  \n",
       "0              0       0     Intel   HD Graphics 620        575.0  \n",
       "1              0       0       AMD         Radeon R5        400.0  \n",
       "2              0       0    Nvidia     GeForce MX150       1495.0  \n",
       "3              0       0     Intel  UHD Graphics 620        770.0  \n",
       "4              0       0     Intel   HD Graphics 620        393.9  "
      ]
     },
     "execution_count": 108,
     "metadata": {},
     "output_type": "execute_result"
    }
   ],
   "source": [
    "# In order to simplify our analysis lets transfrom Company names and Type Names to numerical data\n",
    "from sklearn.preprocessing import LabelEncoder\n",
    "le = LabelEncoder()\n",
    "\n",
    "df['Company'] = le.fit_transform(df['Company'])\n",
    "df[\"TypeName\"]=le.fit_transform(df['TypeName'])\n",
    "# Check the result\n",
    "df.head()"
   ]
  },
  {
   "cell_type": "code",
   "execution_count": 110,
   "id": "836e558d-1422-4765-91bb-8c986dfd49d7",
   "metadata": {},
   "outputs": [
    {
     "data": {
      "text/plain": [
       "array([3, 4, 1, 0, 5, 2])"
      ]
     },
     "execution_count": 110,
     "metadata": {},
     "output_type": "execute_result"
    }
   ],
   "source": [
    "df[\"TypeName\"].unique()"
   ]
  },
  {
   "cell_type": "code",
   "execution_count": null,
   "id": "e4a9ccfc-8183-4572-822a-009592d0208b",
   "metadata": {},
   "outputs": [],
   "source": [
    "# I have written all the conclusions in between the analysis as and when they are drawn"
   ]
  }
 ],
 "metadata": {
  "kernelspec": {
   "display_name": "Python 3 (ipykernel)",
   "language": "python",
   "name": "python3"
  },
  "language_info": {
   "codemirror_mode": {
    "name": "ipython",
    "version": 3
   },
   "file_extension": ".py",
   "mimetype": "text/x-python",
   "name": "python",
   "nbconvert_exporter": "python",
   "pygments_lexer": "ipython3",
   "version": "3.12.4"
  }
 },
 "nbformat": 4,
 "nbformat_minor": 5
}
